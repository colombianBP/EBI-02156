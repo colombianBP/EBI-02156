{
 "cells": [
  {
   "cell_type": "code",
   "execution_count": 1,
   "id": "5b4f430b-582e-4412-84e8-7b9ed71bcb17",
   "metadata": {},
   "outputs": [],
   "source": [
    "import pandas as pd\n",
    "import numpy as np \n",
    "import seaborn as sn\n",
    "import matplotlib.pyplot as plt\n",
    "import time"
   ]
  },
  {
   "cell_type": "code",
   "execution_count": 2,
   "id": "d5111d9f-0e62-4671-9255-7717232b3a81",
   "metadata": {},
   "outputs": [],
   "source": [
    "ti=time.time()"
   ]
  },
  {
   "cell_type": "code",
   "execution_count": 3,
   "id": "eb9ed4f8-c448-4356-aabb-9c86553f48f5",
   "metadata": {},
   "outputs": [],
   "source": [
    "# read and see red wine data\n",
    "redwine=pd.read_csv('winequality/winequality-red.csv',sep=';')"
   ]
  },
  {
   "cell_type": "code",
   "execution_count": 4,
   "id": "0fcd8673-3020-44f2-8c53-9edc4eb209c3",
   "metadata": {},
   "outputs": [],
   "source": [
    "# read and see white wine data\n",
    "whitewine=pd.read_csv('winequality/winequality-white.csv',sep=';')"
   ]
  },
  {
   "cell_type": "code",
   "execution_count": 5,
   "id": "37dd9031-a53e-491e-ba46-6826811af154",
   "metadata": {},
   "outputs": [],
   "source": [
    "# store color as a new variable and join\n",
    "redwine['color']=[1]*redwine.shape[0]\n",
    "whitewine['color']=[0]*whitewine.shape[0]\n",
    "data=pd.concat([redwine,whitewine])\n",
    "data=data.reset_index(drop=True)"
   ]
  },
  {
   "cell_type": "code",
   "execution_count": 6,
   "id": "306a34da-f29c-4564-a254-caace833fd69",
   "metadata": {
    "tags": []
   },
   "outputs": [],
   "source": [
    "# get basic data statistics\n",
    "data.describe().to_csv('Plots/EDA/SummaryStatistics.csv')"
   ]
  },
  {
   "cell_type": "code",
   "execution_count": 7,
   "id": "e075c730-bf8c-4218-8fbb-e0e0c2a76041",
   "metadata": {},
   "outputs": [],
   "source": [
    "#Make some plots showing red vs white wine \n",
    "b=50\n",
    "datr=data[data.color==1].drop(['color'],axis=1).reset_index(drop=True)\n",
    "datw=data[data.color==0].drop(['color'],axis=1).reset_index(drop=True)"
   ]
  },
  {
   "cell_type": "code",
   "execution_count": 8,
   "id": "ea3e357b-3b74-425f-b3f8-7a7ce2a5847e",
   "metadata": {},
   "outputs": [
    {
     "data": {
      "text/plain": [
       "<Figure size 640x480 with 0 Axes>"
      ]
     },
     "metadata": {},
     "output_type": "display_data"
    }
   ],
   "source": [
    "for i in [1,2,6]:\n",
    "    plt.hist(datr[datr.columns[i]],bins=b,color='red',alpha=0.5,density=True)\n",
    "    plt.hist(datw[datw.columns[i]],bins=b,color='green',alpha=0.5,density=True)\n",
    "    plt.xlabel(datw.columns[i].capitalize())\n",
    "    plt.ylabel('Normaliced frequency')\n",
    "    plt.title('Frequency of '+datw.columns[i]+' in red and white wine')\n",
    "    plt.savefig('Plots/EDA/FrequencyHist'+datw.columns[i].title().replace(' ','')+'.pdf',bbox_inches='tight',dpi=200)\n",
    "    plt.clf()"
   ]
  },
  {
   "cell_type": "code",
   "execution_count": 9,
   "id": "1726b4a0-a503-480b-beb0-704879b4d864",
   "metadata": {},
   "outputs": [
    {
     "data": {
      "text/plain": [
       "<Figure size 700x680 with 0 Axes>"
      ]
     },
     "metadata": {},
     "output_type": "display_data"
    },
    {
     "data": {
      "text/plain": [
       "<Figure size 700x680 with 0 Axes>"
      ]
     },
     "metadata": {},
     "output_type": "display_data"
    },
    {
     "data": {
      "text/plain": [
       "<Figure size 700x680 with 0 Axes>"
      ]
     },
     "metadata": {},
     "output_type": "display_data"
    }
   ],
   "source": [
    "# make and save a correlation matrix and its plot; first for both\n",
    "corr_matrix = data.drop(['quality'],axis=1).corr()\n",
    "corr_matrix = corr_matrix.where(np.tril(np.ones(corr_matrix.shape),-1).astype(bool))\n",
    "corr_matrix = corr_matrix.iloc[1:,:-1].round(2)\n",
    "corr_matrix.to_csv('Plots/Correlation/CorrelationMatrixBoth.csv')\n",
    "plt.figure(figsize = (7,6.8))\n",
    "plt.title('Correlation matrix for Both wine types')\n",
    "sn.heatmap(corr_matrix, annot=True)\n",
    "plt.savefig('Plots/Correlation/CorrelationMatrixBoth.pdf',bbox_inches='tight',dpi=120)\n",
    "plt.clf()\n",
    "\n",
    "#Now red wine\n",
    "corr_matrixr = datr.drop(['quality'],axis=1).corr()\n",
    "corr_matrixr = corr_matrixr.where(np.tril(np.ones(corr_matrixr.shape),-1).astype(bool))\n",
    "corr_matrixr = corr_matrixr.iloc[1:,:-1].round(2)\n",
    "corr_matrixr.to_csv('Plots/Correlation/CorrelationMatrixRed.csv')\n",
    "plt.figure(figsize = (7,6.8))\n",
    "plt.title('Correlation matrix for red wine')\n",
    "sn.heatmap(corr_matrixr, annot=True)\n",
    "plt.savefig('Plots/Correlation/CorrelationMatrixRed.pdf',bbox_inches='tight',dpi=120)\n",
    "plt.clf()\n",
    "\n",
    "#and white wine\n",
    "corr_matrixw = datw.drop(['quality'],axis=1).corr()\n",
    "corr_matrixw = corr_matrixw.where(np.tril(np.ones(corr_matrixw.shape),-1).astype(bool))\n",
    "corr_matrixw = corr_matrixw.iloc[1:,:-1].round(2)\n",
    "corr_matrixw.to_csv('Plots/Correlation/CorrelationMatrixWhite.csv')\n",
    "plt.figure(figsize = (7,6.8))\n",
    "plt.title('Correlation matrix for white wine')\n",
    "sn.heatmap(corr_matrixw, annot=True)\n",
    "plt.savefig('Plots/Correlation/CorrelationMatrixWhite.pdf',bbox_inches='tight',dpi=120)\n",
    "plt.clf()"
   ]
  },
  {
   "cell_type": "code",
   "execution_count": 10,
   "id": "b179ad38-6e4e-44c2-ae79-8a5eebcc0586",
   "metadata": {},
   "outputs": [
    {
     "data": {
      "text/plain": [
       "<Figure size 640x480 with 0 Axes>"
      ]
     },
     "metadata": {},
     "output_type": "display_data"
    }
   ],
   "source": [
    "#Compare white and red matices\n",
    "comp_matrix=np.absolute(np.array(corr_matrixr)-np.array(corr_matrixw))#/np.maximum(np.absolute(np.array(corr_matrixr)),np.absolute(np.array(corr_matrixw)))\n",
    "# a choise was made here to not normalize feel free to uncoment the line fragment above to do so\n",
    "comp_matrix=comp_matrix.round(2)\n",
    "comp_matrix=pd.DataFrame(comp_matrix)\n",
    "comp_matrix.index=corr_matrix.index[0:-1]\n",
    "comp_matrix.columns=corr_matrix.columns[0:-1]\n",
    "comp_matrix.to_csv('Plots/Correlation/CorrelationMatrixComparison.csv')\n",
    "plt.suptitle('Comparison of correlation matrices for white VS red wine')\n",
    "plt.title('As the absolute value of the difference')\n",
    "sn.heatmap(comp_matrix, annot=True)\n",
    "plt.savefig('Plots/Correlation/CorrelationMatrixComparison.pdf',bbox_inches='tight',dpi=120)\n",
    "plt.clf()"
   ]
  },
  {
   "cell_type": "code",
   "execution_count": 11,
   "id": "3a9d709c-c869-4d1b-a223-87757e67217a",
   "metadata": {},
   "outputs": [],
   "source": [
    "# Write variance unflation factors to evaluate feature engeniering results\n",
    "import statsmodels.api as sm\n",
    "from statsmodels.stats.outliers_influence import variance_inflation_factor"
   ]
  },
  {
   "cell_type": "code",
   "execution_count": 12,
   "id": "6641d2f7-00b0-49e0-a756-ec85fbcefa10",
   "metadata": {},
   "outputs": [],
   "source": [
    "#Normalization of variables\n",
    "data=data.reset_index(drop=True)\n",
    "for column in data.columns:\n",
    "    data[column] = (data[column] - data[column].mean()) / data[column].std()\n",
    "data=data.reset_index(drop=True)"
   ]
  },
  {
   "cell_type": "code",
   "execution_count": 13,
   "id": "4bef60fc-fe94-4503-ad17-49d9539a2056",
   "metadata": {},
   "outputs": [],
   "source": [
    "#VIF analysis without feature engeniering\n",
    "vifs=[variance_inflation_factor(data.drop(['quality'],axis=1).values, i) for i in range(len(data.drop(['quality'],axis=1).columns))]\n",
    "pd.DataFrame({'Columns':data.drop(['quality'],axis=1).columns,'VIF':vifs}).to_csv('Plots/VarianceInflation/RedAndWhiteWine.csv',index=False)"
   ]
  },
  {
   "cell_type": "code",
   "execution_count": 14,
   "id": "21b004a1-2816-4be6-9fa6-04f002261b29",
   "metadata": {},
   "outputs": [],
   "source": [
    "datr=data[data.color>0].reset_index(drop=True).drop(['color'],axis=1)\n",
    "vifs=[variance_inflation_factor(datr.drop(['quality'],axis=1).values, i) for i in range(len(datr.drop(['quality'],axis=1).columns))]\n",
    "pd.DataFrame({'Columns':datr.drop(['quality'],axis=1).columns,'VIF':vifs}).to_csv('Plots/VarianceInflation/redWine.csv',index=False)"
   ]
  },
  {
   "cell_type": "code",
   "execution_count": 15,
   "id": "3bda23b4-a4e7-44a3-9be7-6357c0166dfd",
   "metadata": {},
   "outputs": [],
   "source": [
    "datw=data[data.color<0].reset_index(drop=True).drop(['color'],axis=1)\n",
    "vifs=[variance_inflation_factor(datw.drop(['quality'],axis=1).values, i) for i in range(len(datw.drop(['quality'],axis=1).columns))]\n",
    "pd.DataFrame({'Columns':datw.drop(['quality'],axis=1).columns,'VIF':vifs}).to_csv('Plots/VarianceInflation/whiteWine.csv',index=False)"
   ]
  },
  {
   "cell_type": "code",
   "execution_count": 16,
   "id": "e1fd08d6-0f8e-4973-8575-f71172e8a9d9",
   "metadata": {},
   "outputs": [],
   "source": [
    "#Feature engineering \n",
    "drops=['density','residual sugar','alcohol']\n",
    "data['fermentation']=[np.mean(data.loc[i,drops]) for i in range(data.shape[0])]\n",
    "data=data.drop(drops,axis=1)\n",
    "\n",
    "drops=['free sulfur dioxide','total sulfur dioxide']\n",
    "data['sulfur dioxide']=[np.mean(data.loc[i,drops]) for i in range(data.shape[0])]\n",
    "data=data.drop(drops,axis=1)"
   ]
  },
  {
   "cell_type": "code",
   "execution_count": 17,
   "id": "a9454e07-8e49-42b3-a42d-8f90989b35e5",
   "metadata": {},
   "outputs": [],
   "source": [
    "#VIF analysis with feature engeniering\n",
    "vifs=[variance_inflation_factor(data.drop(['quality'],axis=1).values, i) for i in range(len(data.drop(['quality'],axis=1).columns))]\n",
    "pd.DataFrame({'Columns':data.drop(['quality'],axis=1).columns,'VIF':vifs}).to_csv('Plots/VarianceInflation/TransformedRedAndWhiteWine.csv',index=False)"
   ]
  },
  {
   "cell_type": "code",
   "execution_count": 18,
   "id": "aa29fe87-0f27-4ad3-bb19-e16ab2c2f608",
   "metadata": {},
   "outputs": [],
   "source": [
    "datr=data[data.color>0].reset_index(drop=True).drop(['color'],axis=1)\n",
    "vifs=[variance_inflation_factor(datr.drop(['quality'],axis=1).values, i) for i in range(len(datr.drop(['quality'],axis=1).columns))]\n",
    "pd.DataFrame({'Columns':datr.drop(['quality'],axis=1).columns,'VIF':vifs}).to_csv('Plots/VarianceInflation/TransformedRedWine.csv',index=False)"
   ]
  },
  {
   "cell_type": "code",
   "execution_count": 19,
   "id": "bd45e464-4452-4321-89bd-cd54534c19f3",
   "metadata": {},
   "outputs": [],
   "source": [
    "datw=data[data.color<0].reset_index(drop=True).drop(['color'],axis=1)\n",
    "vifs=[variance_inflation_factor(datw.drop(['quality'],axis=1).values, i) for i in range(len(datw.drop(['quality'],axis=1).columns))]\n",
    "pd.DataFrame({'Columns':datw.drop(['quality'],axis=1).columns,'VIF':vifs}).to_csv('Plots/VarianceInflation/TransformedWhiteWine.csv',index=False)"
   ]
  },
  {
   "cell_type": "code",
   "execution_count": 20,
   "id": "fb15a772-9c24-4e35-8bcb-247011fe3afd",
   "metadata": {},
   "outputs": [],
   "source": [
    "#Model construction, training and statistics\n",
    "modelb = sm.OLS(data.quality,np.array(data.drop(['quality'],axis=1)))\n",
    "modelb = modelb.fit()\n",
    "summ=modelb.summary2()\n",
    "t=summ.tables[0]\n",
    "t.to_csv('Plots/ModelStatistics/bothWinesGeneralStatistics.csv',index=False,header=False)\n",
    "t=summ.tables[1]\n",
    "t.index=data.drop(['quality'],axis=1).columns\n",
    "t.to_csv('Plots/ModelStatistics/bothWinesFeaturesStatistics.csv')"
   ]
  },
  {
   "cell_type": "code",
   "execution_count": 21,
   "id": "82b2a7f1-a53a-4e50-a180-08711ce30b2c",
   "metadata": {},
   "outputs": [],
   "source": [
    "modelw = sm.OLS(np.array(datw.quality),np.array(datw.drop(['quality'],axis=1)))\n",
    "modelw = modelw.fit()\n",
    "summ=modelw.summary2()\n",
    "t=summ.tables[0]\n",
    "t.to_csv('Plots/ModelStatistics/whiteWineGeneralStatistics.csv',index=False,header=False)\n",
    "t=summ.tables[1]\n",
    "t.index=data.drop(['quality','color'],axis=1).columns\n",
    "t.to_csv('Plots/ModelStatistics/whiteWineFeaturesStatistics.csv')"
   ]
  },
  {
   "cell_type": "code",
   "execution_count": 22,
   "id": "7489bae5-beb8-4204-b3c2-051635b4481a",
   "metadata": {},
   "outputs": [],
   "source": [
    "modelr = sm.OLS(np.array(datr.quality),np.array(datr.drop(['quality'],axis=1)))\n",
    "modelr = modelr.fit()\n",
    "summ=modelr.summary2()\n",
    "t=summ.tables[0]\n",
    "t.to_csv('Plots/ModelStatistics/redWineGeneralStatistics.csv',index=False,header=False)\n",
    "t=summ.tables[1]\n",
    "t.index=data.drop(['quality','color'],axis=1).columns\n",
    "t.to_csv('Plots/ModelStatistics/redWineFeaturesStatistics.csv')"
   ]
  },
  {
   "cell_type": "code",
   "execution_count": 23,
   "id": "778ccb6e-dfd8-4482-93b7-3c4c9a5503df",
   "metadata": {},
   "outputs": [
    {
     "name": "stdout",
     "output_type": "stream",
     "text": [
      "Analysis took 5.4 seconds to run\n"
     ]
    }
   ],
   "source": [
    "#Print time to run\n",
    "tf=time.time()\n",
    "print('Analysis took '+str(np.round(tf-ti,2))+' seconds to run')"
   ]
  }
 ],
 "metadata": {
  "kernelspec": {
   "display_name": "Python 3 (ipykernel)",
   "language": "python",
   "name": "python3"
  },
  "language_info": {
   "codemirror_mode": {
    "name": "ipython",
    "version": 3
   },
   "file_extension": ".py",
   "mimetype": "text/x-python",
   "name": "python",
   "nbconvert_exporter": "python",
   "pygments_lexer": "ipython3",
   "version": "3.9.17"
  }
 },
 "nbformat": 4,
 "nbformat_minor": 5
}
